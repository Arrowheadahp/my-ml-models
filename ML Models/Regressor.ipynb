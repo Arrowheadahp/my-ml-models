{
 "cells": [
  {
   "cell_type": "markdown",
   "metadata": {},
   "source": [
    "### Import Libraries"
   ]
  },
  {
   "cell_type": "code",
   "execution_count": 1,
   "metadata": {},
   "outputs": [],
   "source": [
    "import pandas as pd\n",
    "import numpy as np\n",
    "import sklearn\n",
    "\n",
    "import warnings\n",
    "warnings.filterwarnings('ignore')\n",
    "\n",
    "import matplotlib.pyplot as plt\n",
    "import seaborn as sns\n",
    "from matplotlib import style\n",
    "style.use('ggplot')"
   ]
  },
  {
   "cell_type": "code",
   "execution_count": 31,
   "metadata": {},
   "outputs": [],
   "source": [
    "from sklearn.model_selection import KFold, GridSearchCV, cross_validate, ParameterGrid\n",
    "from sklearn.feature_selection import RFECV\n",
    "from sklearn.base import clone\n",
    "from sklearn.preprocessing import StandardScaler, LabelEncoder\n",
    "\n",
    "from sklearn.neural_network import MLPRegressor\n",
    "from sklearn.neighbors import KNeighborsRegressor\n",
    "from sklearn.svm import SVR, LinearSVR, NuSVR\n",
    "from sklearn.gaussian_process import GaussianProcessRegressor\n",
    "from sklearn.tree import DecisionTreeRegressor, plot_tree\n",
    "from sklearn.ensemble import RandomForestRegressor, GradientBoostingRegressor, ExtraTreesRegressor, AdaBoostRegressor\n",
    "from sklearn.linear_model import SGDRegressor, LogisticRegressionCV, RidgeCV\n",
    "\n",
    "from sklearn import linear_model, ensemble\n",
    "\n",
    "from sklearn.ensemble import StackingRegressor, VotingRegressor"
   ]
  },
  {
   "cell_type": "markdown",
   "metadata": {},
   "source": [
    "### Import the Train data set and Test data set "
   ]
  },
  {
   "cell_type": "code",
   "execution_count": 3,
   "metadata": {},
   "outputs": [],
   "source": [
    "# loc_train = 'data\\\\train.csv'\n",
    "# loc_test = 'data\\\\test.csv'\n",
    "\n",
    "# target = 'y'\n",
    "# evaluation = 'neg_mean_squared_error'\n",
    "\n",
    "# raw_train_data = pd.read_csv(loc_train)\n",
    "# y = raw_train_data[target]\n",
    "# raw_train_data = raw_train_data.drop(target, axis=1)\n",
    "# raw_test_data = pd.read_csv(loc_test)\n",
    "# raw_train_data.head(5)"
   ]
  },
  {
   "cell_type": "code",
   "execution_count": 4,
   "metadata": {},
   "outputs": [
    {
     "data": {
      "text/html": [
       "<div>\n",
       "<style scoped>\n",
       "    .dataframe tbody tr th:only-of-type {\n",
       "        vertical-align: middle;\n",
       "    }\n",
       "\n",
       "    .dataframe tbody tr th {\n",
       "        vertical-align: top;\n",
       "    }\n",
       "\n",
       "    .dataframe thead th {\n",
       "        text-align: right;\n",
       "    }\n",
       "</style>\n",
       "<table border=\"1\" class=\"dataframe\">\n",
       "  <thead>\n",
       "    <tr style=\"text-align: right;\">\n",
       "      <th></th>\n",
       "      <th>0</th>\n",
       "      <th>1</th>\n",
       "      <th>2</th>\n",
       "      <th>3</th>\n",
       "      <th>4</th>\n",
       "      <th>5</th>\n",
       "      <th>6</th>\n",
       "      <th>7</th>\n",
       "      <th>8</th>\n",
       "      <th>9</th>\n",
       "      <th>10</th>\n",
       "      <th>11</th>\n",
       "      <th>12</th>\n",
       "    </tr>\n",
       "  </thead>\n",
       "  <tbody>\n",
       "    <tr>\n",
       "      <th>316</th>\n",
       "      <td>0.31827</td>\n",
       "      <td>0.0</td>\n",
       "      <td>9.90</td>\n",
       "      <td>0.0</td>\n",
       "      <td>0.544</td>\n",
       "      <td>5.914</td>\n",
       "      <td>83.2</td>\n",
       "      <td>3.9986</td>\n",
       "      <td>4.0</td>\n",
       "      <td>304.0</td>\n",
       "      <td>18.4</td>\n",
       "      <td>390.70</td>\n",
       "      <td>18.33</td>\n",
       "    </tr>\n",
       "    <tr>\n",
       "      <th>124</th>\n",
       "      <td>0.09849</td>\n",
       "      <td>0.0</td>\n",
       "      <td>25.65</td>\n",
       "      <td>0.0</td>\n",
       "      <td>0.581</td>\n",
       "      <td>5.879</td>\n",
       "      <td>95.8</td>\n",
       "      <td>2.0063</td>\n",
       "      <td>2.0</td>\n",
       "      <td>188.0</td>\n",
       "      <td>19.1</td>\n",
       "      <td>379.38</td>\n",
       "      <td>17.58</td>\n",
       "    </tr>\n",
       "    <tr>\n",
       "      <th>139</th>\n",
       "      <td>0.54452</td>\n",
       "      <td>0.0</td>\n",
       "      <td>21.89</td>\n",
       "      <td>0.0</td>\n",
       "      <td>0.624</td>\n",
       "      <td>6.151</td>\n",
       "      <td>97.9</td>\n",
       "      <td>1.6687</td>\n",
       "      <td>4.0</td>\n",
       "      <td>437.0</td>\n",
       "      <td>21.2</td>\n",
       "      <td>396.90</td>\n",
       "      <td>18.46</td>\n",
       "    </tr>\n",
       "    <tr>\n",
       "      <th>422</th>\n",
       "      <td>12.04820</td>\n",
       "      <td>0.0</td>\n",
       "      <td>18.10</td>\n",
       "      <td>0.0</td>\n",
       "      <td>0.614</td>\n",
       "      <td>5.648</td>\n",
       "      <td>87.6</td>\n",
       "      <td>1.9512</td>\n",
       "      <td>24.0</td>\n",
       "      <td>666.0</td>\n",
       "      <td>20.2</td>\n",
       "      <td>291.55</td>\n",
       "      <td>14.10</td>\n",
       "    </tr>\n",
       "    <tr>\n",
       "      <th>384</th>\n",
       "      <td>20.08490</td>\n",
       "      <td>0.0</td>\n",
       "      <td>18.10</td>\n",
       "      <td>0.0</td>\n",
       "      <td>0.700</td>\n",
       "      <td>4.368</td>\n",
       "      <td>91.2</td>\n",
       "      <td>1.4395</td>\n",
       "      <td>24.0</td>\n",
       "      <td>666.0</td>\n",
       "      <td>20.2</td>\n",
       "      <td>285.83</td>\n",
       "      <td>30.63</td>\n",
       "    </tr>\n",
       "  </tbody>\n",
       "</table>\n",
       "</div>"
      ],
      "text/plain": [
       "            0    1      2    3      4      5     6       7     8      9    10  \\\n",
       "316   0.31827  0.0   9.90  0.0  0.544  5.914  83.2  3.9986   4.0  304.0  18.4   \n",
       "124   0.09849  0.0  25.65  0.0  0.581  5.879  95.8  2.0063   2.0  188.0  19.1   \n",
       "139   0.54452  0.0  21.89  0.0  0.624  6.151  97.9  1.6687   4.0  437.0  21.2   \n",
       "422  12.04820  0.0  18.10  0.0  0.614  5.648  87.6  1.9512  24.0  666.0  20.2   \n",
       "384  20.08490  0.0  18.10  0.0  0.700  4.368  91.2  1.4395  24.0  666.0  20.2   \n",
       "\n",
       "         11     12  \n",
       "316  390.70  18.33  \n",
       "124  379.38  17.58  \n",
       "139  396.90  18.46  \n",
       "422  291.55  14.10  \n",
       "384  285.83  30.63  "
      ]
     },
     "execution_count": 4,
     "metadata": {},
     "output_type": "execute_result"
    }
   ],
   "source": [
    "from sklearn.model_selection import train_test_split\n",
    "from sklearn.datasets import load_boston\n",
    "evaluation = 'neg_mean_squared_error'\n",
    "R, t = load_boston(True)\n",
    "R = pd.DataFrame(R)\n",
    "raw_train_data, raw_test_data, y, v = train_test_split(R, t, random_state=47, test_size=0.15)\n",
    "raw_train_data.head(5)"
   ]
  },
  {
   "cell_type": "code",
   "execution_count": 5,
   "metadata": {},
   "outputs": [
    {
     "data": {
      "text/plain": [
       "count    430.000000\n",
       "mean      22.362791\n",
       "std        9.254023\n",
       "min        5.000000\n",
       "25%       16.600000\n",
       "50%       20.950000\n",
       "75%       25.000000\n",
       "max       50.000000\n",
       "dtype: float64"
      ]
     },
     "execution_count": 5,
     "metadata": {},
     "output_type": "execute_result"
    }
   ],
   "source": [
    "pd.Series(y).describe()"
   ]
  },
  {
   "cell_type": "code",
   "execution_count": 6,
   "metadata": {},
   "outputs": [
    {
     "name": "stdout",
     "output_type": "stream",
     "text": [
      "<class 'pandas.core.frame.DataFrame'>\n",
      "Int64Index: 430 entries, 316 to 135\n",
      "Data columns (total 13 columns):\n",
      " #   Column  Non-Null Count  Dtype  \n",
      "---  ------  --------------  -----  \n",
      " 0   0       430 non-null    float64\n",
      " 1   1       430 non-null    float64\n",
      " 2   2       430 non-null    float64\n",
      " 3   3       430 non-null    float64\n",
      " 4   4       430 non-null    float64\n",
      " 5   5       430 non-null    float64\n",
      " 6   6       430 non-null    float64\n",
      " 7   7       430 non-null    float64\n",
      " 8   8       430 non-null    float64\n",
      " 9   9       430 non-null    float64\n",
      " 10  10      430 non-null    float64\n",
      " 11  11      430 non-null    float64\n",
      " 12  12      430 non-null    float64\n",
      "dtypes: float64(13)\n",
      "memory usage: 47.0 KB\n"
     ]
    }
   ],
   "source": [
    "raw_train_data.info()"
   ]
  },
  {
   "cell_type": "code",
   "execution_count": 7,
   "metadata": {},
   "outputs": [
    {
     "data": {
      "text/html": [
       "<div>\n",
       "<style scoped>\n",
       "    .dataframe tbody tr th:only-of-type {\n",
       "        vertical-align: middle;\n",
       "    }\n",
       "\n",
       "    .dataframe tbody tr th {\n",
       "        vertical-align: top;\n",
       "    }\n",
       "\n",
       "    .dataframe thead th {\n",
       "        text-align: right;\n",
       "    }\n",
       "</style>\n",
       "<table border=\"1\" class=\"dataframe\">\n",
       "  <thead>\n",
       "    <tr style=\"text-align: right;\">\n",
       "      <th></th>\n",
       "      <th>0</th>\n",
       "      <th>1</th>\n",
       "      <th>2</th>\n",
       "      <th>3</th>\n",
       "      <th>4</th>\n",
       "      <th>5</th>\n",
       "      <th>6</th>\n",
       "      <th>7</th>\n",
       "      <th>8</th>\n",
       "      <th>9</th>\n",
       "      <th>10</th>\n",
       "      <th>11</th>\n",
       "      <th>12</th>\n",
       "    </tr>\n",
       "  </thead>\n",
       "  <tbody>\n",
       "    <tr>\n",
       "      <th>count</th>\n",
       "      <td>430.000000</td>\n",
       "      <td>430.000000</td>\n",
       "      <td>430.000000</td>\n",
       "      <td>430.000000</td>\n",
       "      <td>430.000000</td>\n",
       "      <td>430.000000</td>\n",
       "      <td>430.000000</td>\n",
       "      <td>430.000000</td>\n",
       "      <td>430.000000</td>\n",
       "      <td>430.000000</td>\n",
       "      <td>430.000000</td>\n",
       "      <td>430.000000</td>\n",
       "      <td>430.000000</td>\n",
       "    </tr>\n",
       "    <tr>\n",
       "      <th>mean</th>\n",
       "      <td>3.740302</td>\n",
       "      <td>11.275581</td>\n",
       "      <td>11.110535</td>\n",
       "      <td>0.072093</td>\n",
       "      <td>0.557199</td>\n",
       "      <td>6.285598</td>\n",
       "      <td>68.552558</td>\n",
       "      <td>3.778647</td>\n",
       "      <td>9.597674</td>\n",
       "      <td>408.304651</td>\n",
       "      <td>18.470698</td>\n",
       "      <td>356.219442</td>\n",
       "      <td>12.802674</td>\n",
       "    </tr>\n",
       "    <tr>\n",
       "      <th>std</th>\n",
       "      <td>8.973376</td>\n",
       "      <td>23.082228</td>\n",
       "      <td>6.932679</td>\n",
       "      <td>0.258943</td>\n",
       "      <td>0.119271</td>\n",
       "      <td>0.704589</td>\n",
       "      <td>28.179947</td>\n",
       "      <td>2.110552</td>\n",
       "      <td>8.780063</td>\n",
       "      <td>170.159524</td>\n",
       "      <td>2.129048</td>\n",
       "      <td>92.281920</td>\n",
       "      <td>7.127608</td>\n",
       "    </tr>\n",
       "    <tr>\n",
       "      <th>min</th>\n",
       "      <td>0.006320</td>\n",
       "      <td>0.000000</td>\n",
       "      <td>0.460000</td>\n",
       "      <td>0.000000</td>\n",
       "      <td>0.385000</td>\n",
       "      <td>3.561000</td>\n",
       "      <td>2.900000</td>\n",
       "      <td>1.129600</td>\n",
       "      <td>1.000000</td>\n",
       "      <td>187.000000</td>\n",
       "      <td>12.600000</td>\n",
       "      <td>0.320000</td>\n",
       "      <td>1.730000</td>\n",
       "    </tr>\n",
       "    <tr>\n",
       "      <th>25%</th>\n",
       "      <td>0.079095</td>\n",
       "      <td>0.000000</td>\n",
       "      <td>5.130000</td>\n",
       "      <td>0.000000</td>\n",
       "      <td>0.449000</td>\n",
       "      <td>5.878250</td>\n",
       "      <td>45.175000</td>\n",
       "      <td>2.073700</td>\n",
       "      <td>4.000000</td>\n",
       "      <td>277.000000</td>\n",
       "      <td>17.400000</td>\n",
       "      <td>376.602500</td>\n",
       "      <td>7.192500</td>\n",
       "    </tr>\n",
       "    <tr>\n",
       "      <th>50%</th>\n",
       "      <td>0.252775</td>\n",
       "      <td>0.000000</td>\n",
       "      <td>9.125000</td>\n",
       "      <td>0.000000</td>\n",
       "      <td>0.538000</td>\n",
       "      <td>6.183500</td>\n",
       "      <td>77.100000</td>\n",
       "      <td>3.107300</td>\n",
       "      <td>5.000000</td>\n",
       "      <td>330.000000</td>\n",
       "      <td>19.100000</td>\n",
       "      <td>391.475000</td>\n",
       "      <td>11.675000</td>\n",
       "    </tr>\n",
       "    <tr>\n",
       "      <th>75%</th>\n",
       "      <td>3.692267</td>\n",
       "      <td>12.500000</td>\n",
       "      <td>18.100000</td>\n",
       "      <td>0.000000</td>\n",
       "      <td>0.631000</td>\n",
       "      <td>6.623500</td>\n",
       "      <td>94.075000</td>\n",
       "      <td>5.117675</td>\n",
       "      <td>24.000000</td>\n",
       "      <td>666.000000</td>\n",
       "      <td>20.200000</td>\n",
       "      <td>396.237500</td>\n",
       "      <td>17.157500</td>\n",
       "    </tr>\n",
       "    <tr>\n",
       "      <th>max</th>\n",
       "      <td>88.976200</td>\n",
       "      <td>95.000000</td>\n",
       "      <td>27.740000</td>\n",
       "      <td>1.000000</td>\n",
       "      <td>0.871000</td>\n",
       "      <td>8.780000</td>\n",
       "      <td>100.000000</td>\n",
       "      <td>12.126500</td>\n",
       "      <td>24.000000</td>\n",
       "      <td>711.000000</td>\n",
       "      <td>22.000000</td>\n",
       "      <td>396.900000</td>\n",
       "      <td>37.970000</td>\n",
       "    </tr>\n",
       "  </tbody>\n",
       "</table>\n",
       "</div>"
      ],
      "text/plain": [
       "               0           1           2           3           4           5   \\\n",
       "count  430.000000  430.000000  430.000000  430.000000  430.000000  430.000000   \n",
       "mean     3.740302   11.275581   11.110535    0.072093    0.557199    6.285598   \n",
       "std      8.973376   23.082228    6.932679    0.258943    0.119271    0.704589   \n",
       "min      0.006320    0.000000    0.460000    0.000000    0.385000    3.561000   \n",
       "25%      0.079095    0.000000    5.130000    0.000000    0.449000    5.878250   \n",
       "50%      0.252775    0.000000    9.125000    0.000000    0.538000    6.183500   \n",
       "75%      3.692267   12.500000   18.100000    0.000000    0.631000    6.623500   \n",
       "max     88.976200   95.000000   27.740000    1.000000    0.871000    8.780000   \n",
       "\n",
       "               6           7           8           9           10          11  \\\n",
       "count  430.000000  430.000000  430.000000  430.000000  430.000000  430.000000   \n",
       "mean    68.552558    3.778647    9.597674  408.304651   18.470698  356.219442   \n",
       "std     28.179947    2.110552    8.780063  170.159524    2.129048   92.281920   \n",
       "min      2.900000    1.129600    1.000000  187.000000   12.600000    0.320000   \n",
       "25%     45.175000    2.073700    4.000000  277.000000   17.400000  376.602500   \n",
       "50%     77.100000    3.107300    5.000000  330.000000   19.100000  391.475000   \n",
       "75%     94.075000    5.117675   24.000000  666.000000   20.200000  396.237500   \n",
       "max    100.000000   12.126500   24.000000  711.000000   22.000000  396.900000   \n",
       "\n",
       "               12  \n",
       "count  430.000000  \n",
       "mean    12.802674  \n",
       "std      7.127608  \n",
       "min      1.730000  \n",
       "25%      7.192500  \n",
       "50%     11.675000  \n",
       "75%     17.157500  \n",
       "max     37.970000  "
      ]
     },
     "execution_count": 7,
     "metadata": {},
     "output_type": "execute_result"
    }
   ],
   "source": [
    "raw_train_data.describe()"
   ]
  },
  {
   "cell_type": "markdown",
   "metadata": {},
   "source": [
    "### Prepare the data for Machine Learning"
   ]
  },
  {
   "cell_type": "code",
   "execution_count": 8,
   "metadata": {},
   "outputs": [],
   "source": [
    "def prepare(raw_DF):\n",
    "    DF = raw_DF.copy()\n",
    "    \n",
    "    if 'Id' in DF.columns:\n",
    "        DF.drop('Id', axis= 1, inplace= True)\n",
    "    \n",
    "    return DF"
   ]
  },
  {
   "cell_type": "code",
   "execution_count": 9,
   "metadata": {},
   "outputs": [
    {
     "data": {
      "text/html": [
       "<div>\n",
       "<style scoped>\n",
       "    .dataframe tbody tr th:only-of-type {\n",
       "        vertical-align: middle;\n",
       "    }\n",
       "\n",
       "    .dataframe tbody tr th {\n",
       "        vertical-align: top;\n",
       "    }\n",
       "\n",
       "    .dataframe thead th {\n",
       "        text-align: right;\n",
       "    }\n",
       "</style>\n",
       "<table border=\"1\" class=\"dataframe\">\n",
       "  <thead>\n",
       "    <tr style=\"text-align: right;\">\n",
       "      <th></th>\n",
       "      <th>0</th>\n",
       "      <th>1</th>\n",
       "      <th>2</th>\n",
       "      <th>3</th>\n",
       "      <th>4</th>\n",
       "      <th>5</th>\n",
       "      <th>6</th>\n",
       "      <th>7</th>\n",
       "      <th>8</th>\n",
       "      <th>9</th>\n",
       "      <th>10</th>\n",
       "      <th>11</th>\n",
       "      <th>12</th>\n",
       "      <th>y</th>\n",
       "    </tr>\n",
       "  </thead>\n",
       "  <tbody>\n",
       "    <tr>\n",
       "      <th>316</th>\n",
       "      <td>0.31827</td>\n",
       "      <td>0.0</td>\n",
       "      <td>9.90</td>\n",
       "      <td>0.0</td>\n",
       "      <td>0.544</td>\n",
       "      <td>5.914</td>\n",
       "      <td>83.2</td>\n",
       "      <td>3.9986</td>\n",
       "      <td>4.0</td>\n",
       "      <td>304.0</td>\n",
       "      <td>18.4</td>\n",
       "      <td>390.70</td>\n",
       "      <td>18.33</td>\n",
       "      <td>17.8</td>\n",
       "    </tr>\n",
       "    <tr>\n",
       "      <th>124</th>\n",
       "      <td>0.09849</td>\n",
       "      <td>0.0</td>\n",
       "      <td>25.65</td>\n",
       "      <td>0.0</td>\n",
       "      <td>0.581</td>\n",
       "      <td>5.879</td>\n",
       "      <td>95.8</td>\n",
       "      <td>2.0063</td>\n",
       "      <td>2.0</td>\n",
       "      <td>188.0</td>\n",
       "      <td>19.1</td>\n",
       "      <td>379.38</td>\n",
       "      <td>17.58</td>\n",
       "      <td>18.8</td>\n",
       "    </tr>\n",
       "    <tr>\n",
       "      <th>139</th>\n",
       "      <td>0.54452</td>\n",
       "      <td>0.0</td>\n",
       "      <td>21.89</td>\n",
       "      <td>0.0</td>\n",
       "      <td>0.624</td>\n",
       "      <td>6.151</td>\n",
       "      <td>97.9</td>\n",
       "      <td>1.6687</td>\n",
       "      <td>4.0</td>\n",
       "      <td>437.0</td>\n",
       "      <td>21.2</td>\n",
       "      <td>396.90</td>\n",
       "      <td>18.46</td>\n",
       "      <td>17.8</td>\n",
       "    </tr>\n",
       "    <tr>\n",
       "      <th>422</th>\n",
       "      <td>12.04820</td>\n",
       "      <td>0.0</td>\n",
       "      <td>18.10</td>\n",
       "      <td>0.0</td>\n",
       "      <td>0.614</td>\n",
       "      <td>5.648</td>\n",
       "      <td>87.6</td>\n",
       "      <td>1.9512</td>\n",
       "      <td>24.0</td>\n",
       "      <td>666.0</td>\n",
       "      <td>20.2</td>\n",
       "      <td>291.55</td>\n",
       "      <td>14.10</td>\n",
       "      <td>20.8</td>\n",
       "    </tr>\n",
       "    <tr>\n",
       "      <th>384</th>\n",
       "      <td>20.08490</td>\n",
       "      <td>0.0</td>\n",
       "      <td>18.10</td>\n",
       "      <td>0.0</td>\n",
       "      <td>0.700</td>\n",
       "      <td>4.368</td>\n",
       "      <td>91.2</td>\n",
       "      <td>1.4395</td>\n",
       "      <td>24.0</td>\n",
       "      <td>666.0</td>\n",
       "      <td>20.2</td>\n",
       "      <td>285.83</td>\n",
       "      <td>30.63</td>\n",
       "      <td>8.8</td>\n",
       "    </tr>\n",
       "  </tbody>\n",
       "</table>\n",
       "</div>"
      ],
      "text/plain": [
       "            0    1      2    3      4      5     6       7     8      9    10  \\\n",
       "316   0.31827  0.0   9.90  0.0  0.544  5.914  83.2  3.9986   4.0  304.0  18.4   \n",
       "124   0.09849  0.0  25.65  0.0  0.581  5.879  95.8  2.0063   2.0  188.0  19.1   \n",
       "139   0.54452  0.0  21.89  0.0  0.624  6.151  97.9  1.6687   4.0  437.0  21.2   \n",
       "422  12.04820  0.0  18.10  0.0  0.614  5.648  87.6  1.9512  24.0  666.0  20.2   \n",
       "384  20.08490  0.0  18.10  0.0  0.700  4.368  91.2  1.4395  24.0  666.0  20.2   \n",
       "\n",
       "         11     12     y  \n",
       "316  390.70  18.33  17.8  \n",
       "124  379.38  17.58  18.8  \n",
       "139  396.90  18.46  17.8  \n",
       "422  291.55  14.10  20.8  \n",
       "384  285.83  30.63   8.8  "
      ]
     },
     "execution_count": 9,
     "metadata": {},
     "output_type": "execute_result"
    }
   ],
   "source": [
    "train_X = prepare(raw_train_data)\n",
    "test_X = prepare(raw_test_data)\n",
    "\n",
    "F = train_X.copy()\n",
    "F['y'] = y\n",
    "F.head()"
   ]
  },
  {
   "cell_type": "code",
   "execution_count": 10,
   "metadata": {},
   "outputs": [
    {
     "name": "stdout",
     "output_type": "stream",
     "text": [
      "<class 'pandas.core.frame.DataFrame'>\n",
      "Int64Index: 430 entries, 316 to 135\n",
      "Data columns (total 14 columns):\n",
      " #   Column  Non-Null Count  Dtype  \n",
      "---  ------  --------------  -----  \n",
      " 0   0       430 non-null    float64\n",
      " 1   1       430 non-null    float64\n",
      " 2   2       430 non-null    float64\n",
      " 3   3       430 non-null    float64\n",
      " 4   4       430 non-null    float64\n",
      " 5   5       430 non-null    float64\n",
      " 6   6       430 non-null    float64\n",
      " 7   7       430 non-null    float64\n",
      " 8   8       430 non-null    float64\n",
      " 9   9       430 non-null    float64\n",
      " 10  10      430 non-null    float64\n",
      " 11  11      430 non-null    float64\n",
      " 12  12      430 non-null    float64\n",
      " 13  y       430 non-null    float64\n",
      "dtypes: float64(14)\n",
      "memory usage: 50.4 KB\n"
     ]
    }
   ],
   "source": [
    "F.info()"
   ]
  },
  {
   "cell_type": "markdown",
   "metadata": {},
   "source": [
    "### Visualize"
   ]
  },
  {
   "cell_type": "code",
   "execution_count": 11,
   "metadata": {},
   "outputs": [
    {
     "data": {
      "text/plain": [
       "y     1.000000\n",
       "12    0.734049\n",
       "5     0.716769\n",
       "2     0.512732\n",
       "10    0.490786\n",
       "9     0.480829\n",
       "4     0.438669\n",
       "6     0.404655\n",
       "0     0.389386\n",
       "8     0.387987\n",
       "1     0.362130\n",
       "11    0.346377\n",
       "7     0.266480\n",
       "3     0.199761\n",
       "Name: y, dtype: float64"
      ]
     },
     "execution_count": 11,
     "metadata": {},
     "output_type": "execute_result"
    }
   ],
   "source": [
    "F.corr().abs().sort_values('y', ascending=False).y"
   ]
  },
  {
   "cell_type": "code",
   "execution_count": 12,
   "metadata": {},
   "outputs": [
    {
     "data": {
      "image/png": "[encoded data removed]",
      "text/plain": [
       "<Figure size 1008x648 with 1 Axes>"
      ]
     },
     "metadata": {},
     "output_type": "display_data"
    }
   ],
   "source": [
    "dt = DecisionTreeRegressor().fit(train_X, y)\n",
    "plt.figure(figsize = (14, 9))\n",
    "plot_tree(dt, \n",
    "          max_depth = 3, \n",
    "          filled = True, \n",
    "          fontsize=12, \n",
    "          label='root', \n",
    "          impurity=False, \n",
    "          feature_names=train_X.columns\n",
    "         )\n",
    "plt.title('Features')\n",
    "plt.show()"
   ]
  },
  {
   "cell_type": "markdown",
   "metadata": {},
   "source": [
    "### List of Regressors\n",
    "https://scikit-learn.org/stable/supervised_learning.html"
   ]
  },
  {
   "cell_type": "code",
   "execution_count": 37,
   "metadata": {},
   "outputs": [],
   "source": [
    "# https://scikit-learn.org/stable/supervised_learning.html\n",
    "\n",
    "Regressors_small = [\n",
    "    GradientBoostingRegressor(), \n",
    "    RidgeCV(),\n",
    "    KNeighborsRegressor(), \n",
    "    RandomForestRegressor(),\n",
    "    ExtraTreesRegressor(),\n",
    "]\n",
    "\n",
    "Regressors_medium = [\n",
    "    linear_model.LarsCV(),\n",
    "    linear_model.LassoCV(),\n",
    "    linear_model.LassoLarsCV(),\n",
    "    linear_model.ElasticNetCV(),\n",
    "    linear_model.OrthogonalMatchingPursuitCV(),\n",
    "    linear_model.BayesianRidge(), \n",
    "    linear_model.TweedieRegressor(),\n",
    "    \n",
    "    MLPRegressor(), \n",
    "    SVR(), \n",
    "    SGDRegressor(), \n",
    "    LinearSVR(),\n",
    "    GaussianProcessRegressor(), \n",
    "    DecisionTreeRegressor(), \n",
    "    AdaBoostRegressor(),\n",
    "    linear_model.PassiveAggressiveRegressor(),\n",
    "    \n",
    "    NuSVR(),\n",
    "]"
   ]
  },
  {
   "cell_type": "markdown",
   "metadata": {},
   "source": [
    "### Tips on Practical Use of some classifiers\n",
    "\n",
    "https://scikit-learn.org/stable/modules/svm.html#tips-on-practical-use\n",
    "\n",
    "https://scikit-learn.org/stable/modules/sgd.html#tips-on-practical-use\n",
    "\n",
    "https://scikit-learn.org/stable/modules/tree.html#tips-on-practical-use\n",
    "\n",
    "https://scikit-learn.org/stable/modules/neural_networks_supervised.html#tips-on-practical-use\n"
   ]
  },
  {
   "cell_type": "markdown",
   "metadata": {},
   "source": [
    "### Parameter Grid"
   ]
  },
  {
   "cell_type": "code",
   "execution_count": 38,
   "metadata": {},
   "outputs": [],
   "source": [
    "# parameter tuning\n",
    "gbt_parameters = {\n",
    "    'n_estimators': [100, 300, 500], \n",
    "    'loss': ['ls', 'lad', 'huber', 'quantile']\n",
    "}\n",
    "\n",
    "knn_parameters = {\n",
    "    'n_neighbors': range(1, 20),\n",
    "    'weights': ['uniform', 'distance']\n",
    "}\n",
    "\n",
    "rf_parameters = {\n",
    "    'n_estimators': [100, 300, 500]\n",
    "}\n",
    "\n",
    "et_parameters = {\n",
    "    'n_estimators': [100, 300, 500]\n",
    "}\n",
    "\n",
    "ridge_parameters = {\n",
    "    'scoring': [None, evaluation]\n",
    "}"
   ]
  },
  {
   "cell_type": "markdown",
   "metadata": {},
   "source": [
    "### Making the list of Classifiers"
   ]
  },
  {
   "cell_type": "code",
   "execution_count": 39,
   "metadata": {},
   "outputs": [],
   "source": [
    "gbt_models = [GradientBoostingRegressor(**params) for params in ParameterGrid(gbt_parameters)]\n",
    "knn_models = [KNeighborsRegressor(**params) for params in ParameterGrid(knn_parameters)]\n",
    "et_models = [ExtraTreesRegressor(**params) for params in ParameterGrid(et_parameters)]\n",
    "ridge_models = [RidgeCV(**params) for params in ParameterGrid(ridge_parameters)]\n",
    "rf_models = [RandomForestRegressor(**params) for params in ParameterGrid(rf_parameters)]"
   ]
  },
  {
   "cell_type": "code",
   "execution_count": 41,
   "metadata": {},
   "outputs": [
    {
     "data": {
      "text/plain": [
       "74"
      ]
     },
     "execution_count": 41,
     "metadata": {},
     "output_type": "execute_result"
    }
   ],
   "source": [
    "MLA = Regressors_small\n",
    "MLA = gbt_models + knn_models + et_models + ridge_models + rf_models\n",
    "MLA = MLA + Regressors_medium\n",
    "len(MLA)"
   ]
  },
  {
   "cell_type": "markdown",
   "metadata": {},
   "source": [
    "### Checking the accuracy of each of the Classifiers\n",
    "https://scikit-learn.org/stable/modules/generated/sklearn.model_selection.cross_validate.html"
   ]
  },
  {
   "cell_type": "code",
   "execution_count": 17,
   "metadata": {},
   "outputs": [],
   "source": [
    "paramlist = ['activation', 'alpha', 'class_weight', 'n_neighbours', 'weights', 'gamma', 'n_estimators',\n",
    "            'final_estimator']\n",
    "scoring_metrics = [evaluation]\n",
    "metrics = ['fit_time'] +  ['test_'+m for m in scoring_metrics]\n",
    "main_scorer = 'test_'+scoring_metrics[0]\n",
    "\n",
    "\n",
    "def cv(alg, X, y):\n",
    "    name = alg.__class__.__name__\n",
    "#     params = alg.get_params()\n",
    "#     imp_params = {p: params[p] for p in params if p in paramlist}\n",
    "    \n",
    "    score = pd.DataFrame(cross_validate(alg, X, y, scoring=scoring_metrics))\n",
    "    \n",
    "    df = pd.DataFrame({\n",
    "        name: [alg] + \n",
    "        #[imp_params] + \n",
    "        [score[i].mean() for i in metrics] + [score[main_scorer].std()]\n",
    "    })\n",
    "    \n",
    "    return df.transpose()\n",
    "\n",
    "\n",
    "def CVscoreDF(MLA, X, y):\n",
    "    M = pd.DataFrame()\n",
    "    for alg in MLA:\n",
    "        try:\n",
    "            M = M.append(cv(alg, X, y))\n",
    "        except:\n",
    "            continue\n",
    "\n",
    "    M = M.rename(columns={i: c for i, c in enumerate(['models']+metrics+['std_test_score'])})\n",
    "    M = M.sort_values(main_scorer, ascending = False)\n",
    "    return M"
   ]
  },
  {
   "cell_type": "code",
   "execution_count": 18,
   "metadata": {
    "scrolled": true
   },
   "outputs": [
    {
     "data": {
      "text/html": [
       "<div>\n",
       "<style scoped>\n",
       "    .dataframe tbody tr th:only-of-type {\n",
       "        vertical-align: middle;\n",
       "    }\n",
       "\n",
       "    .dataframe tbody tr th {\n",
       "        vertical-align: top;\n",
       "    }\n",
       "\n",
       "    .dataframe thead th {\n",
       "        text-align: right;\n",
       "    }\n",
       "</style>\n",
       "<table border=\"1\" class=\"dataframe\">\n",
       "  <thead>\n",
       "    <tr style=\"text-align: right;\">\n",
       "      <th></th>\n",
       "      <th>models</th>\n",
       "      <th>fit_time</th>\n",
       "      <th>test_neg_mean_squared_error</th>\n",
       "      <th>std_test_score</th>\n",
       "    </tr>\n",
       "  </thead>\n",
       "  <tbody>\n",
       "    <tr>\n",
       "      <th>GradientBoostingRegressor</th>\n",
       "      <td>GradientBoostingRegressor()</td>\n",
       "      <td>0.2052</td>\n",
       "      <td>-10.3784</td>\n",
       "      <td>3.17089</td>\n",
       "    </tr>\n",
       "    <tr>\n",
       "      <th>ExtraTreesRegressor</th>\n",
       "      <td>ExtraTreesRegressor()</td>\n",
       "      <td>0.369588</td>\n",
       "      <td>-11.0794</td>\n",
       "      <td>5.43982</td>\n",
       "    </tr>\n",
       "    <tr>\n",
       "      <th>RandomForestRegressor</th>\n",
       "      <td>RandomForestRegressor(n_estimators=300)</td>\n",
       "      <td>1.56681</td>\n",
       "      <td>-12.6447</td>\n",
       "      <td>4.07465</td>\n",
       "    </tr>\n",
       "    <tr>\n",
       "      <th>AdaBoostRegressor</th>\n",
       "      <td>AdaBoostRegressor()</td>\n",
       "      <td>0.16221</td>\n",
       "      <td>-14.1488</td>\n",
       "      <td>4.78404</td>\n",
       "    </tr>\n",
       "    <tr>\n",
       "      <th>DecisionTreeRegressor</th>\n",
       "      <td>DecisionTreeRegressor()</td>\n",
       "      <td>0.00899544</td>\n",
       "      <td>-22.9821</td>\n",
       "      <td>9.94162</td>\n",
       "    </tr>\n",
       "    <tr>\n",
       "      <th>RidgeCV</th>\n",
       "      <td>RidgeCV(alphas=array([ 0.1,  1. , 10. ]))</td>\n",
       "      <td>0.00580068</td>\n",
       "      <td>-23.1574</td>\n",
       "      <td>6.67756</td>\n",
       "    </tr>\n",
       "    <tr>\n",
       "      <th>MLPRegressor</th>\n",
       "      <td>MLPRegressor(alpha=0.01)</td>\n",
       "      <td>1.1454</td>\n",
       "      <td>-34.2724</td>\n",
       "      <td>13.9378</td>\n",
       "    </tr>\n",
       "    <tr>\n",
       "      <th>MLPRegressor</th>\n",
       "      <td>MLPRegressor(alpha=1e-06)</td>\n",
       "      <td>1.13864</td>\n",
       "      <td>-38.3089</td>\n",
       "      <td>13.0721</td>\n",
       "    </tr>\n",
       "    <tr>\n",
       "      <th>MLPRegressor</th>\n",
       "      <td>MLPRegressor(alpha=0.001)</td>\n",
       "      <td>1.11601</td>\n",
       "      <td>-39.7915</td>\n",
       "      <td>18.5975</td>\n",
       "    </tr>\n",
       "    <tr>\n",
       "      <th>KNeighborsRegressor</th>\n",
       "      <td>KNeighborsRegressor(n_neighbors=7, weights='di...</td>\n",
       "      <td>0.00699334</td>\n",
       "      <td>-41.5001</td>\n",
       "      <td>14.5183</td>\n",
       "    </tr>\n",
       "  </tbody>\n",
       "</table>\n",
       "</div>"
      ],
      "text/plain": [
       "                                                                      models  \\\n",
       "GradientBoostingRegressor                        GradientBoostingRegressor()   \n",
       "ExtraTreesRegressor                                    ExtraTreesRegressor()   \n",
       "RandomForestRegressor                RandomForestRegressor(n_estimators=300)   \n",
       "AdaBoostRegressor                                        AdaBoostRegressor()   \n",
       "DecisionTreeRegressor                                DecisionTreeRegressor()   \n",
       "RidgeCV                            RidgeCV(alphas=array([ 0.1,  1. , 10. ]))   \n",
       "MLPRegressor                                        MLPRegressor(alpha=0.01)   \n",
       "MLPRegressor                                       MLPRegressor(alpha=1e-06)   \n",
       "MLPRegressor                                       MLPRegressor(alpha=0.001)   \n",
       "KNeighborsRegressor        KNeighborsRegressor(n_neighbors=7, weights='di...   \n",
       "\n",
       "                             fit_time test_neg_mean_squared_error  \\\n",
       "GradientBoostingRegressor      0.2052                    -10.3784   \n",
       "ExtraTreesRegressor          0.369588                    -11.0794   \n",
       "RandomForestRegressor         1.56681                    -12.6447   \n",
       "AdaBoostRegressor             0.16221                    -14.1488   \n",
       "DecisionTreeRegressor      0.00899544                    -22.9821   \n",
       "RidgeCV                    0.00580068                    -23.1574   \n",
       "MLPRegressor                   1.1454                    -34.2724   \n",
       "MLPRegressor                  1.13864                    -38.3089   \n",
       "MLPRegressor                  1.11601                    -39.7915   \n",
       "KNeighborsRegressor        0.00699334                    -41.5001   \n",
       "\n",
       "                          std_test_score  \n",
       "GradientBoostingRegressor        3.17089  \n",
       "ExtraTreesRegressor              5.43982  \n",
       "RandomForestRegressor            4.07465  \n",
       "AdaBoostRegressor                4.78404  \n",
       "DecisionTreeRegressor            9.94162  \n",
       "RidgeCV                          6.67756  \n",
       "MLPRegressor                     13.9378  \n",
       "MLPRegressor                     13.0721  \n",
       "MLPRegressor                     18.5975  \n",
       "KNeighborsRegressor              14.5183  "
      ]
     },
     "execution_count": 18,
     "metadata": {},
     "output_type": "execute_result"
    }
   ],
   "source": [
    "Score = CVscoreDF(MLA, train_X, y)\n",
    "Score.head(10)"
   ]
  },
  {
   "cell_type": "markdown",
   "metadata": {},
   "source": [
    "### Stack Ensembling\n",
    "https://scikit-learn.org/stable/modules/generated/sklearn.ensemble.StackingClassifier.html\n",
    "\n",
    "https://scikit-learn.org/stable/modules/linear_model.html"
   ]
  },
  {
   "cell_type": "code",
   "execution_count": 19,
   "metadata": {},
   "outputs": [
    {
     "data": {
      "text/plain": [
       "[('GradientBoostingRegressor0', GradientBoostingRegressor()),\n",
       " ('ExtraTreesRegressor1', ExtraTreesRegressor()),\n",
       " ('RandomForestRegressor2', RandomForestRegressor(n_estimators=300)),\n",
       " ('AdaBoostRegressor3', AdaBoostRegressor()),\n",
       " ('DecisionTreeRegressor4', DecisionTreeRegressor())]"
      ]
     },
     "execution_count": 19,
     "metadata": {},
     "output_type": "execute_result"
    }
   ],
   "source": [
    "# List of the Classifiers to be stacked\n",
    "\n",
    "MLAi = Score.models.head(32).to_list()\n",
    "Stack_estimators = [\n",
    "    (a.__class__.__name__ + str(i), a) for i, a in enumerate(MLAi)\n",
    "]\n",
    "Stack_estimators[:5]"
   ]
  },
  {
   "cell_type": "code",
   "execution_count": 20,
   "metadata": {},
   "outputs": [
    {
     "data": {
      "text/plain": [
       "StackingRegressor(estimators=[('GradientBoostingRegressor0',\n",
       "                               GradientBoostingRegressor()),\n",
       "                              ('ExtraTreesRegressor1', ExtraTreesRegressor()),\n",
       "                              ('RandomForestRegressor2',\n",
       "                               RandomForestRegressor(n_estimators=300)),\n",
       "                              ('AdaBoostRegressor3', AdaBoostRegressor()),\n",
       "                              ('DecisionTreeRegressor4',\n",
       "                               DecisionTreeRegressor()),\n",
       "                              ('RidgeCV5',\n",
       "                               RidgeCV(alphas=array([ 0.1,  1. , 10. ]))),\n",
       "                              ('ML...\n",
       "                              ('KNeighborsRegressor25', KNeighborsRegressor()),\n",
       "                              ('KNeighborsRegressor26',\n",
       "                               KNeighborsRegressor(n_neighbors=7)),\n",
       "                              ('KNeighborsRegressor27',\n",
       "                               KNeighborsRegressor(n_neighbors=17,\n",
       "                                                   weights='distance')),\n",
       "                              ('KNeighborsRegressor28',\n",
       "                               KNeighborsRegressor(n_neighbors=3,\n",
       "                                                   weights='distance')),\n",
       "                              ('KNeighborsRegressor29',\n",
       "                               KNeighborsRegressor(n_neighbors=18,\n",
       "                                                   weights='distance')), ...])"
      ]
     },
     "execution_count": 20,
     "metadata": {},
     "output_type": "execute_result"
    }
   ],
   "source": [
    "LSstack = StackingRegressor(Stack_estimators)\n",
    "LSstack.fit(train_X, y)"
   ]
  },
  {
   "cell_type": "code",
   "execution_count": 21,
   "metadata": {},
   "outputs": [
    {
     "data": {
      "text/plain": [
       "VotingRegressor(estimators=[('GradientBoostingRegressor0',\n",
       "                             GradientBoostingRegressor()),\n",
       "                            ('ExtraTreesRegressor1', ExtraTreesRegressor()),\n",
       "                            ('RandomForestRegressor2',\n",
       "                             RandomForestRegressor(n_estimators=300)),\n",
       "                            ('AdaBoostRegressor3', AdaBoostRegressor()),\n",
       "                            ('DecisionTreeRegressor4', DecisionTreeRegressor()),\n",
       "                            ('RidgeCV5',\n",
       "                             RidgeCV(alphas=array([ 0.1,  1. , 10. ]))),\n",
       "                            ('MLPR...\n",
       "                            ('KNeighborsRegressor25', KNeighborsRegressor()),\n",
       "                            ('KNeighborsRegressor26',\n",
       "                             KNeighborsRegressor(n_neighbors=7)),\n",
       "                            ('KNeighborsRegressor27',\n",
       "                             KNeighborsRegressor(n_neighbors=17,\n",
       "                                                 weights='distance')),\n",
       "                            ('KNeighborsRegressor28',\n",
       "                             KNeighborsRegressor(n_neighbors=3,\n",
       "                                                 weights='distance')),\n",
       "                            ('KNeighborsRegressor29',\n",
       "                             KNeighborsRegressor(n_neighbors=18,\n",
       "                                                 weights='distance')), ...])"
      ]
     },
     "execution_count": 21,
     "metadata": {},
     "output_type": "execute_result"
    }
   ],
   "source": [
    "Vstack = VotingRegressor(Stack_estimators)\n",
    "Vstack.fit(train_X, y)"
   ]
  },
  {
   "cell_type": "markdown",
   "metadata": {},
   "source": [
    "## Own Stack Regressor\n",
    "https://scikit-learn.org/stable/modules/generated/sklearn.feature_selection.RFECV.html"
   ]
  },
  {
   "cell_type": "code",
   "execution_count": 22,
   "metadata": {},
   "outputs": [],
   "source": [
    "TrainedMLA  = list(Stack_estimators)\n",
    "for n, alg in TrainedMLA:\n",
    "    alg.fit(train_X, y)"
   ]
  },
  {
   "cell_type": "code",
   "execution_count": 23,
   "metadata": {},
   "outputs": [],
   "source": [
    "lscaler = None\n",
    "def level1(X):\n",
    "    global lscaler\n",
    "    L1 = pd.DataFrame({'temp':X.index})\n",
    "    for name, alg in TrainedMLA:\n",
    "        L1[name] = alg.predict(X)\n",
    "\n",
    "    L1 = L1.drop(columns = ['temp'])\n",
    "    if lscaler == None:\n",
    "        lscaler = StandardScaler().fit(L1)\n",
    "    L1 = lscaler.transform(L1)\n",
    "    return L1\n",
    "L1 = level1(train_X)"
   ]
  },
  {
   "cell_type": "code",
   "execution_count": 24,
   "metadata": {},
   "outputs": [],
   "source": [
    "FLSstack = RFECV(RidgeCV(), \n",
    "                 scoring = evaluation)"
   ]
  },
  {
   "cell_type": "code",
   "execution_count": 25,
   "metadata": {},
   "outputs": [
    {
     "name": "stdout",
     "output_type": "stream",
     "text": [
      "RFECV num Features: 19 \n",
      "RidgeCV mean rmse: -1.132370790719957e-06\n"
     ]
    }
   ],
   "source": [
    "FLSstack.fit(L1, y)\n",
    "print ('RFECV num Features:',FLSstack.n_features_, \n",
    "       '\\nRidgeCV mean rmse:', FLSstack.grid_scores_.mean())"
   ]
  },
  {
   "cell_type": "code",
   "execution_count": 26,
   "metadata": {},
   "outputs": [
    {
     "data": {
      "text/plain": [
       "StackingRegressor(estimators=[('GradientBoostingRegressor0',\n",
       "                               GradientBoostingRegressor()),\n",
       "                              ('ExtraTreesRegressor1', ExtraTreesRegressor()),\n",
       "                              ('RandomForestRegressor2',\n",
       "                               RandomForestRegressor(n_estimators=300)),\n",
       "                              ('AdaBoostRegressor3', AdaBoostRegressor()),\n",
       "                              ('DecisionTreeRegressor4',\n",
       "                               DecisionTreeRegressor()),\n",
       "                              ('RidgeCV5',\n",
       "                               RidgeCV(alphas=array([ 0.1,  1. , 10. ]))),\n",
       "                              ('ML...\n",
       "                              ('KNeighborsRegressor25', KNeighborsRegressor()),\n",
       "                              ('KNeighborsRegressor26',\n",
       "                               KNeighborsRegressor(n_neighbors=7)),\n",
       "                              ('KNeighborsRegressor27',\n",
       "                               KNeighborsRegressor(n_neighbors=17,\n",
       "                                                   weights='distance')),\n",
       "                              ('KNeighborsRegressor28',\n",
       "                               KNeighborsRegressor(n_neighbors=3,\n",
       "                                                   weights='distance')),\n",
       "                              ('KNeighborsRegressor29',\n",
       "                               KNeighborsRegressor(n_neighbors=18,\n",
       "                                                   weights='distance')), ...])"
      ]
     },
     "execution_count": 26,
     "metadata": {},
     "output_type": "execute_result"
    }
   ],
   "source": [
    "imp_models = Score.models.head(32)[FLSstack.support_].tolist()\n",
    "Stack_estimators = [\n",
    "    (a.__class__.__name__ + str(i), a) for i, a in enumerate(MLA)\n",
    "]"
   ]
  },
  {
   "cell_type": "code",
   "execution_count": 43,
   "metadata": {},
   "outputs": [],
   "source": [
    "Meta_models = [\n",
    "    linear_model.RidgeCV(), \n",
    "    linear_model.LassoLarsCV(), \n",
    "    linear_model.ElasticNetCV()\n",
    "]\n",
    "Stacker = [StackingRegressor(Stack_estimators, final_estimator=mm) for mm in Meta_models]"
   ]
  },
  {
   "cell_type": "code",
   "execution_count": 44,
   "metadata": {},
   "outputs": [
    {
     "data": {
      "text/html": [
       "<div>\n",
       "<style scoped>\n",
       "    .dataframe tbody tr th:only-of-type {\n",
       "        vertical-align: middle;\n",
       "    }\n",
       "\n",
       "    .dataframe tbody tr th {\n",
       "        vertical-align: top;\n",
       "    }\n",
       "\n",
       "    .dataframe thead th {\n",
       "        text-align: right;\n",
       "    }\n",
       "</style>\n",
       "<table border=\"1\" class=\"dataframe\">\n",
       "  <thead>\n",
       "    <tr style=\"text-align: right;\">\n",
       "      <th></th>\n",
       "      <th>models</th>\n",
       "      <th>fit_time</th>\n",
       "      <th>test_neg_mean_squared_error</th>\n",
       "      <th>std_test_score</th>\n",
       "    </tr>\n",
       "  </thead>\n",
       "  <tbody>\n",
       "    <tr>\n",
       "      <th>StackingRegressor</th>\n",
       "      <td>StackingRegressor(estimators=[('GradientBoosti...</td>\n",
       "      <td>20.9242</td>\n",
       "      <td>-10.4288</td>\n",
       "      <td>5.08336</td>\n",
       "    </tr>\n",
       "    <tr>\n",
       "      <th>StackingRegressor</th>\n",
       "      <td>StackingRegressor(estimators=[('GradientBoosti...</td>\n",
       "      <td>20.7326</td>\n",
       "      <td>-10.4732</td>\n",
       "      <td>4.88576</td>\n",
       "    </tr>\n",
       "    <tr>\n",
       "      <th>StackingRegressor</th>\n",
       "      <td>StackingRegressor(estimators=[('GradientBoosti...</td>\n",
       "      <td>21.1454</td>\n",
       "      <td>-10.8323</td>\n",
       "      <td>5.03645</td>\n",
       "    </tr>\n",
       "    <tr>\n",
       "      <th>StackingRegressor</th>\n",
       "      <td>StackingRegressor(estimators=[('GradientBoosti...</td>\n",
       "      <td>21.1855</td>\n",
       "      <td>-10.9597</td>\n",
       "      <td>5.78977</td>\n",
       "    </tr>\n",
       "    <tr>\n",
       "      <th>StackingRegressor</th>\n",
       "      <td>StackingRegressor(estimators=[('GradientBoosti...</td>\n",
       "      <td>20.1226</td>\n",
       "      <td>-11.5416</td>\n",
       "      <td>5.09475</td>\n",
       "    </tr>\n",
       "  </tbody>\n",
       "</table>\n",
       "</div>"
      ],
      "text/plain": [
       "                                                              models fit_time  \\\n",
       "StackingRegressor  StackingRegressor(estimators=[('GradientBoosti...  20.9242   \n",
       "StackingRegressor  StackingRegressor(estimators=[('GradientBoosti...  20.7326   \n",
       "StackingRegressor  StackingRegressor(estimators=[('GradientBoosti...  21.1454   \n",
       "StackingRegressor  StackingRegressor(estimators=[('GradientBoosti...  21.1855   \n",
       "StackingRegressor  StackingRegressor(estimators=[('GradientBoosti...  20.1226   \n",
       "\n",
       "                  test_neg_mean_squared_error std_test_score  \n",
       "StackingRegressor                    -10.4288        5.08336  \n",
       "StackingRegressor                    -10.4732        4.88576  \n",
       "StackingRegressor                    -10.8323        5.03645  \n",
       "StackingRegressor                    -10.9597        5.78977  \n",
       "StackingRegressor                    -11.5416        5.09475  "
      ]
     },
     "execution_count": 44,
     "metadata": {},
     "output_type": "execute_result"
    }
   ],
   "source": [
    "Stack_score = CVscoreDF(Stacker, train_X, y)\n",
    "Stack_score"
   ]
  },
  {
   "cell_type": "markdown",
   "metadata": {},
   "source": [
    "### If still unsatisfied:\n",
    "https://mlens.readthedocs.io/en/0.1.x/source/mlens.ensemble/"
   ]
  },
  {
   "cell_type": "markdown",
   "metadata": {},
   "source": [
    "### Choose your Classifier and Predict on the test data set"
   ]
  },
  {
   "cell_type": "code",
   "execution_count": 27,
   "metadata": {},
   "outputs": [
    {
     "data": {
      "text/plain": [
       "GradientBoostingRegressor()"
      ]
     },
     "execution_count": 27,
     "metadata": {},
     "output_type": "execute_result"
    }
   ],
   "source": [
    "single_Regressor = Score.models.iloc[0]\n",
    "single_Regressor.fit(train_X, y)"
   ]
  },
  {
   "cell_type": "code",
   "execution_count": null,
   "metadata": {},
   "outputs": [],
   "source": [
    "stack_Regressor = Stack_score.models.iloc[0]\n",
    "stack_Regressor.fit(train_X, y)"
   ]
  },
  {
   "cell_type": "code",
   "execution_count": 28,
   "metadata": {},
   "outputs": [],
   "source": [
    "predictions_single = single_Regressor.predict(test_X)\n",
    "predictions_stack = stack_Regressor.predict(test_X)\n",
    "predictions_vstack = Vstack.predict(test_X)\n",
    "predictions_flsstack = FLSstack.predict(level1(test_X))\n",
    "predictions_rfestack = RFEstack.predict(test_X)"
   ]
  },
  {
   "cell_type": "code",
   "execution_count": 29,
   "metadata": {},
   "outputs": [
    {
     "name": "stdout",
     "output_type": "stream",
     "text": [
      "Single: 7.07150140456312\n",
      "Stack: 7.721478993792196\n",
      "Voting Stack: 20.515133612326668\n",
      "Own stack: 24.389321954539753\n",
      "RFE stack: 8.181072824528009\n"
     ]
    }
   ],
   "source": [
    "print ('Single:', sklearn.metrics.mean_squared_error(v, predictions_single))\n",
    "print ('Stack:', sklearn.metrics.mean_squared_error(v, predictions_stack))\n",
    "print ('Voting Stack:', sklearn.metrics.mean_squared_error(v, predictions_vstack))\n",
    "print ('Own stack:', sklearn.metrics.mean_squared_error(v, predictions_flsstack))\n",
    "print ('RFE stack:', sklearn.metrics.mean_squared_error(v, predictions_rfestack))"
   ]
  },
  {
   "cell_type": "code",
   "execution_count": 30,
   "metadata": {},
   "outputs": [],
   "source": [
    "# for name, predictions in [['single', predictions_single],\n",
    "#                     ['stack', predictions_stack],\n",
    "#                     ['rfestack', predictions_rfestack],\n",
    "#                     ['vstack', predictions_vstack],\n",
    "#                     ['flsstack', predictions_flsstack]]:\n",
    "#     output = pd.DataFrame({'Id': raw_test_data.Id, target: predictions})\n",
    "#     output.to_csv(f'preds\\\\{name}_1.csv', index = False)\n",
    "# output.head()"
   ]
  },
  {
   "cell_type": "code",
   "execution_count": null,
   "metadata": {},
   "outputs": [],
   "source": []
  }
 ],
 "metadata": {
  "kernelspec": {
   "display_name": "Python 3.7.4 64-bit",
   "language": "python",
   "name": "python37464bitb122d7ed60ea485982511a1bcddbd83a"
  },
  "language_info": {
   "codemirror_mode": {
    "name": "ipython",
    "version": 3
   },
   "file_extension": ".py",
   "mimetype": "text/x-python",
   "name": "python",
   "nbconvert_exporter": "python",
   "pygments_lexer": "ipython3",
   "version": "3.7.4"
  }
 },
 "nbformat": 4,
 "nbformat_minor": 2
}
